{
 "cells": [
  {
   "cell_type": "markdown",
   "metadata": {},
   "source": [
    "# DyNetworkX Tutorial – Plotting Dynamic Betweenness Centrality\n",
    "\n",
    "The objective of this tutorial is to showcase a typical use case of DyNetworkX.  \n",
    "We will be using the Enron dataset, a preview of the data file can be seen below."
   ]
  },
  {
   "cell_type": "code",
   "execution_count": 1,
   "metadata": {},
   "outputs": [
    {
     "name": "stdout",
     "output_type": "stream",
     "text": [
      "315522000 24 153\n",
      "\n",
      "315522000 24 153\n",
      "\n",
      "315522000 29 29\n",
      "\n",
      "315522000 29 29\n",
      "\n",
      "315522000 29 29\n",
      "\n"
     ]
    }
   ],
   "source": [
    "import  os\n",
    "import urllib\n",
    "\n",
    "file_path = \"execs.email.linesnum\"\n",
    "\n",
    "if not os.path.exists(file_path):\n",
    "    print(\"Downloading Enron dataset from http://www.cis.jhu.edu/~parky/Enron/execs.email.linesnum ...\")\n",
    "    urllib.request.urlretrieve(\"http://www.cis.jhu.edu/~parky/Enron/execs.email.linesnum\", file_path)\n",
    "    print(\"Download complete.\")\n",
    "    \n",
    "with open(\"execs.email.linesnum\", \"r\") as file:\n",
    "    for x in range(5):\n",
    "        print(next(file))"
   ]
  },
  {
   "cell_type": "markdown",
   "metadata": {},
   "source": [
    "### Loading Data into DyNetworkX\n",
    "\n",
    "Loading data a text file using the function `dnx.ImpulseGraph.load_from_txt`.\n",
    "Make sure to specify necessary arguments such as `delimiter`, `timestamptype`, and `order`.\n",
    "\n",
    "Comparing the output of the new ImpulseGraph, it is possible to verify the data set is correctly imported. (Note: order not guaranteed)"
   ]
  },
  {
   "cell_type": "code",
   "execution_count": 2,
   "metadata": {},
   "outputs": [
    {
     "name": "stdout",
     "output_type": "stream",
     "text": [
      "[(169, 169, 315522000), (9, 92, 315522000), (145, 145, 315522000), (178, 178, 315522000), (169, 169, 315522000)]\n"
     ]
    }
   ],
   "source": [
    "import dynetworkx as dnx\n",
    "\n",
    "impulseG = dnx.ImpulseGraph.load_from_txt(\"execs.email.linesnum\", delimiter=\" \", timestamptype=int, order=('t', 'v', 'u'))\n",
    "\n",
    "print(impulseG.edges()[:5])"
   ]
  },
  {
   "cell_type": "markdown",
   "metadata": {},
   "source": [
    "### Converting between different graph types\n",
    "\n",
    "Traditionally working with dynamic networks, it is commmon to flatten the temporal dimension by binning data into smaller static graphs called snapshots. This behavior is replicated by the DynetworkX class `SnapshotGraph`.  \n",
    "By using the argument `length_of_snapshots`, it is possible to specify the desired length of each snapshot to 1 year (converted to seconds to match the data set)."
   ]
  },
  {
   "cell_type": "code",
   "execution_count": 9,
   "metadata": {},
   "outputs": [],
   "source": [
    "snapshotG = impulseG.to_snapshot_graph(length_of_snapshots=31536000)"
   ]
  },
  {
   "cell_type": "markdown",
   "metadata": {},
   "source": [
    "### Calculating Dynamic Betweenness Centrality\n",
    "\n",
    "`compute_network_statistic` returns a list, each item in the list refers to each snapshot in the SnapshotGraph. The specified method is applied to each snapshot in the graph, passing additional arguments if present.\n",
    "The first snapshot can be seen below."
   ]
  },
  {
   "cell_type": "code",
   "execution_count": 4,
   "metadata": {},
   "outputs": [
    {
     "name": "stdout",
     "output_type": "stream",
     "text": [
      "{169: 0.004645760743321719, 9: 0.0, 92: 0.003484320557491289, 145: 0.2862950058072009, 178: 0.004065040650406504, 27: 0.0, 163: 0.10627177700348432, 146: 0.03484320557491289, 155: 0.0, 165: 0.0, 60: 0.010452961672473868, 99: 0.0, 65: 0.0, 63: 0.13182346109175377, 128: 0.009872241579558653, 66: 0.0011614401858304297, 157: 0.0, 140: 0.13821138211382114, 147: 0.011033681765389082, 29: 0.0, 82: 0.15737514518002324, 114: 0.0, 124: 0.030197444831591175, 107: 0.0, 33: 0.0, 167: 0.11033681765389082, 173: 0.0, 58: 0.03484320557491289, 103: 0.05807200929152149, 105: 0.0, 123: 0.0, 57: 0.0, 94: 0.0, 56: 0.030197444831591175, 51: 0.01916376306620209, 153: 0.0, 24: 0.0, 78: 0.0, 111: 0.0, 38: 0.0, 162: 0.0, 95: 0.0, 137: 0.0}\n"
     ]
    }
   ],
   "source": [
    "from networkx.algorithms.centrality import betweenness_centrality\n",
    "\n",
    "centrality_list = snapshotG.compute_network_statistic(betweenness_centrality, normalized=True)\n",
    "print(centrality_list[0])"
   ]
  },
  {
   "cell_type": "markdown",
   "metadata": {},
   "source": [
    "### Formatting Data\n",
    "\n",
    "From this point forward, we are done using DyNetworkX, continuing to finish the objective by transposing the degree data into a format that can be easily plotted.\n",
    "\n",
    "Columns in the dataframe represent snapshots. Indexes in the dataframe represent nodes. Values in the dataframe represent betweenness centrality. Final dataframe is filtered to reduce clutter of final plot."
   ]
  },
  {
   "cell_type": "code",
   "execution_count": 41,
   "metadata": {},
   "outputs": [
    {
     "name": "stdout",
     "output_type": "stream",
     "text": [
      "18    0.000000\n",
      "19    0.379736\n",
      "20    0.057515\n",
      "21    0.004021\n",
      "22    0.010995\n",
      "Name: 169, dtype: float64\n",
      "{169: 0.0, 114: 1.0, 123: 0.0, 155: 0.0, 110: 0.0, 38: 0.0, 112: 0.0, 65: 0.0, 145: 0.0, 11: 0.0, 160: 0.0, 22: 0.0}\n",
      "Empty DataFrame\n",
      "Columns: [18, 19, 20, 21, 22]\n",
      "Index: []\n",
      "(0, 5)\n"
     ]
    }
   ],
   "source": [
    "import pandas as pd\n",
    "\n",
    "df = pd.DataFrame()\n",
    "\n",
    "for i in range(len(centrality_list)):\n",
    "    df[i] = 0.0\n",
    "    \n",
    "    for node in centrality_list[i]:\n",
    "        if node not in df.index:\n",
    "            df.loc[node] = 0.0\n",
    "        df.at[node, i] = centrality_list[i][node]\n",
    "\n",
    "df = df[[*range(18,len(centrality_list))]]\n",
    "print(df.loc[169])\n",
    "print(centrality_list[18])\n",
    "df = df[(df != 0).all(1)]\n",
    "print(df.head())\n",
    "print(df.shape)"
   ]
  },
  {
   "cell_type": "markdown",
   "metadata": {},
   "source": [
    "### Plotting Dynamic Betweenness Centrality\n",
    "\n",
    "Finally, plot the betweenness centrality over time using plotly."
   ]
  },
  {
   "cell_type": "code",
   "execution_count": null,
   "metadata": {},
   "outputs": [],
   "source": [
    "import plotly.express as px\n",
    "\n",
    "fig = px.line(df.T)\n",
    "fig.update_layout(xaxis_title=\"Snapshot\",\n",
    "                  xaxis_nticks=len(snapshotG),\n",
    "                  yaxis_title=\"Betweenness Centrality\",\n",
    "                  legend_title_text='Node',\n",
    "                  template=\"plotly_white\")\n",
    "fig.show()"
   ]
  }
 ],
 "metadata": {
  "kernelspec": {
   "display_name": "Python 3",
   "language": "python",
   "name": "python3"
  },
  "language_info": {
   "codemirror_mode": {
    "name": "ipython",
    "version": 3
   },
   "file_extension": ".py",
   "mimetype": "text/x-python",
   "name": "python",
   "nbconvert_exporter": "python",
   "pygments_lexer": "ipython3",
   "version": "3.7.4"
  }
 },
 "nbformat": 4,
 "nbformat_minor": 4
}
