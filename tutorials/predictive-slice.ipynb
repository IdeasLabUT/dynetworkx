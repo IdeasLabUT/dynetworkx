{
 "cells": [
  {
   "cell_type": "markdown",
   "metadata": {},
   "source": [
    "# DyNetworkX Tutorial – Using Predictive Component for Compound Slices\n",
    "\n",
    "The objective of this tutorial is to showcase a typical use case of DyNetworkX's predictive component for compound slices.\n",
    "We will be using a Facebook Wall Post dataset, a preview of the data file can be seen below.\n",
    "Facebook Wall Post dataset will be downloaded to current directory if not already present. (Size: 19 MB)"
   ]
  },
  {
   "cell_type": "code",
   "execution_count": 7,
   "metadata": {},
   "outputs": [
    {
     "name": "stdout",
     "output_type": "stream",
     "text": [
      "28\t28\t1095135831\n",
      "\n",
      "1015\t1017\t1097725406\n",
      "\n",
      "959\t959\t1098387569\n",
      "\n",
      "991\t991\t1098425204\n",
      "\n",
      "1015\t1017\t1098489762\n",
      "\n"
     ]
    }
   ],
   "source": [
    "import os\n",
    "import urllib\n",
    "\n",
    "file_path = \"facebook-wall.txt.anon\"\n",
    "if not os.path.exists(file_path):\n",
    "    import gzip\n",
    "\n",
    "    print(\"Downloading Facebook wall-posts dataset from http://socialnetworks.mpi-sws.mpg.de/data/facebook-wall.txt.gz ...\")\n",
    "    urllib.request.urlretrieve(\"http://socialnetworks.mpi-sws.mpg.de/data/facebook-wall.txt.gz\", file_path + '.gz')\n",
    "\n",
    "    with gzip.open(file_path + '.gz', 'rb') as zip_file:\n",
    "        with open(file_path, \"wb\") as file:\n",
    "            file.write(zip_file.read())\n",
    "\n",
    "    os.remove(file_path + '.gz')\n",
    "    print(\"Download complete.\")\n",
    "\n",
    "with open(file_path, \"r\") as file:\n",
    "    for x in range(5):\n",
    "        print(next(file))"
   ]
  },
  {
   "cell_type": "markdown",
   "metadata": {},
   "source": [
    "### Loading Data into DyNetworkX\n",
    "\n",
    "Loading data a text file using the function `dnx.ImpulseGraph.load_from_txt`.\n",
    "Make sure to specify necessary arguments such as `delimiter`, `timestamptype`, and `order`.\n",
    "\n",
    "Comparing the output of the new ImpulseGraph, it is possible to verify the data set is correctly imported. (Note: order not guaranteed)\n",
    "\n",
    "*It should be noted, the `load_from_txt` function allows the optional parameter `predict` to automate the predictive process,\n",
    "however for the sake of example, we will keep the default value of False to illustrate how to preform this process manually.*"
   ]
  },
  {
   "cell_type": "code",
   "execution_count": 8,
   "metadata": {},
   "outputs": [
    {
     "name": "stdout",
     "output_type": "stream",
     "text": [
      "[(3186, 6564, 1207197810), (12054, 12082, 1226542537), (20736, 20338, 1184687065), (30828, 43401, 1224900141), (16327, 11065, 1193210633)]\n"
     ]
    }
   ],
   "source": [
    "import dynetworkx as dnx\n",
    "\n",
    "impulseG = dnx.ImpulseGraph.load_from_txt(\"facebook-wall.txt.anon\", delimiter=\"\\t\", timestamptype=int, order=('u', 'v', 't'), predict=False)\n",
    "\n",
    "print(impulseG.edges()[:5])"
   ]
  },
  {
   "cell_type": "markdown",
   "metadata": {},
   "source": [
    "### Generating Predictive Model\n",
    "\n",
    "While it is possible to use IntervalGraph, ImpulseGraph, and their extensions\n",
    "without the use of the predictive model, for analysis involving repeated use of compound slices, users may see computation time performance by doing so.\n",
    "Thankfully, creating a predictive model is as easy as one line!\n",
    "\n",
    "Users should call this line after all edges of interest have been added to the graph.\n",
    "`generate_predictive_model` accepts an optional integer value indicating the number of training samples for the predictive model."
   ]
  },
  {
   "cell_type": "code",
   "execution_count": 9,
   "metadata": {
    "pycharm": {
     "name": "#%%\n"
    }
   },
   "outputs": [],
   "source": [
    "impulseG.generate_predictive_model(250)"
   ]
  },
  {
   "cell_type": "markdown",
   "source": [
    "### Continue As Normal\n",
    "\n",
    "From this point forward, continue using the DyNetworkX structure as normal.\n",
    "When a compound slice is requested while a model has been trained, a prediction is made and the faster sub-structure is chosen.\n",
    "When no model is trained, all compound slices are performed node-first.\n",
    "\n",
    "For more information about the predictive compound component of DyNetworkX: https://arxiv.org/abs/2206.11444"
   ],
   "metadata": {
    "collapsed": false,
    "pycharm": {
     "name": "#%% md\n"
    }
   }
  },
  {
   "cell_type": "markdown",
   "source": [
    "### Node Slice\n",
    "\n",
    "A node slice is any slice that places constraints on the requested nodes, but not the interval."
   ],
   "metadata": {
    "collapsed": false,
    "pycharm": {
     "name": "#%% md\n"
    }
   }
  },
  {
   "cell_type": "code",
   "execution_count": 10,
   "outputs": [
    {
     "data": {
      "text/plain": "[(1939, 11698, 1218747420),\n (1939, 5426, 1224555311),\n (15420, 1939, 1221978053),\n (1578, 1939, 1222055866),\n (19753, 1939, 1230770835)]"
     },
     "execution_count": 10,
     "metadata": {},
     "output_type": "execute_result"
    }
   ],
   "source": [
    "print(impulseG.edges(u=[1939, 6748])[:5])"
   ],
   "metadata": {
    "collapsed": false,
    "pycharm": {
     "name": "#%%\n"
    }
   }
  },
  {
   "cell_type": "markdown",
   "source": [
    "### Interval Slice\n",
    "\n",
    "An interval slice is any slice that places constraints on the requested interval, but not the nodes."
   ],
   "metadata": {
    "collapsed": false,
    "pycharm": {
     "name": "#%% md\n"
    }
   }
  },
  {
   "cell_type": "code",
   "execution_count": 11,
   "outputs": [
    {
     "data": {
      "text/plain": "[(13162, 6748, 1185999602),\n (20339, 25081, 1185999692),\n (9822, 1795, 1185999721),\n (8758, 11733, 1185999744),\n (20339, 25081, 1185999745)]"
     },
     "execution_count": 11,
     "metadata": {},
     "output_type": "execute_result"
    }
   ],
   "source": [
    "print(impulseG.edges(begin=1185999602, end=1285999602)[:5])"
   ],
   "metadata": {
    "collapsed": false,
    "pycharm": {
     "name": "#%%\n"
    }
   }
  },
  {
   "cell_type": "markdown",
   "source": [
    "### Compound Slice\n",
    "\n",
    "A compound slice is any slice that places contraints on both the requested nodes and interval."
   ],
   "metadata": {
    "collapsed": false,
    "pycharm": {
     "name": "#%% md\n"
    }
   }
  },
  {
   "cell_type": "code",
   "execution_count": 12,
   "outputs": [
    {
     "data": {
      "text/plain": "[(1939, 11698, 1218747420),\n (6748, 3666, 1226858138),\n (1578, 1939, 1222055866),\n (6748, 10929, 1186340031),\n (13162, 6748, 1188944828)]"
     },
     "execution_count": 12,
     "metadata": {},
     "output_type": "execute_result"
    }
   ],
   "source": [
    "print(impulseG.edges(u=[1939, 6748], begin=1185999602, end=1285999602)[:5])"
   ],
   "metadata": {
    "collapsed": false,
    "pycharm": {
     "name": "#%%\n"
    }
   }
  }
 ],
 "metadata": {
  "kernelspec": {
   "display_name": "Python 3",
   "language": "python",
   "name": "python3"
  },
  "language_info": {
   "codemirror_mode": {
    "name": "ipython",
    "version": 3
   },
   "file_extension": ".py",
   "mimetype": "text/x-python",
   "name": "python",
   "nbconvert_exporter": "python",
   "pygments_lexer": "ipython3",
   "version": "3.7.4"
  }
 },
 "nbformat": 4,
 "nbformat_minor": 4
}